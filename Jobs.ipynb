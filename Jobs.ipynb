{
 "cells": [
  {
   "cell_type": "code",
   "execution_count": 2,
   "metadata": {},
   "outputs": [],
   "source": [
    "import pandas as pd\n",
    "import time\n",
    "import random\n",
    "from selenium import webdriver\n",
    "from selenium.webdriver.common.keys import Keys"
   ]
  },
  {
   "cell_type": "code",
   "execution_count": 3,
   "metadata": {},
   "outputs": [],
   "source": [
    "PROXY = \"79.1.255.238:8080\"\n",
    "url='https://www.linkedin.com/login'\n",
    "USERNAME=''\n",
    "PASSWORD=''"
   ]
  },
  {
   "cell_type": "code",
   "execution_count": 7,
   "metadata": {},
   "outputs": [],
   "source": [
    "ch=webdriver.ChromeOptions()\n",
    "ch.add_argument('--proxy-server=%s' % PROXY)\n",
    "driver=webdriver.Chrome(executable_path='D:\\chromedriver.exe')"
   ]
  },
  {
   "cell_type": "code",
   "execution_count": 8,
   "metadata": {},
   "outputs": [],
   "source": [
    "driver.get(url)"
   ]
  },
  {
   "cell_type": "code",
   "execution_count": 9,
   "metadata": {},
   "outputs": [],
   "source": [
    "#driver.quit()\n",
    "user_element=driver.find_element_by_id('username')\n",
    "pass_element=driver.find_element_by_id('password')\n",
    "user_element.send_keys(USERNAME)\n",
    "pass_element.send_keys(PASSWORD)\n",
    "pass_element.send_keys(Keys.RETURN)\n",
    "time.sleep(int(random.uniform(5,7)))\n",
    "driver.refresh()"
   ]
  },
  {
   "cell_type": "code",
   "execution_count": 45,
   "metadata": {},
   "outputs": [],
   "source": [
    "url2=['https://www.linkedin.com/jobs/search/?geoId=92000000&keywords=investments&location=Todo%20el%20mundo']\n",
    "for x in range(25,250,25):\n",
    "    url2.append(url2[0]+'&start='+str(x))"
   ]
  },
  {
   "cell_type": "code",
   "execution_count": 53,
   "metadata": {
    "collapsed": true,
    "jupyter": {
     "outputs_hidden": true
    }
   },
   "outputs": [
    {
     "name": "stdout",
     "output_type": "stream",
     "text": [
      "Listo\n",
      "Listo\n",
      "Listo\n",
      "Listo\n",
      "Listo\n",
      "Listo\n",
      "Listo\n",
      "Listo\n",
      "Listo\n",
      "Listo\n"
     ]
    }
   ],
   "source": [
    "try:\n",
    "    df_full=pd.DataFrame()\n",
    "    for url in url2:\n",
    "        print('Listo')\n",
    "        driver.get(url)\n",
    "        time.sleep(int(random.uniform(5,7)))\n",
    "        lists=driver.find_elements_by_css_selector('li.occludable-update.artdeco-list__item--offset-2.artdeco-list__item.p0.ember-view')\n",
    "        \n",
    "        for l in lists:\n",
    "            l.location_once_scrolled_into_view\n",
    "            time.sleep(random.randrange(1, 5, 1)/10)\n",
    "        lists= driver.find_elements_by_css_selector('li.occludable-update.artdeco-list__item--offset-2.artdeco-list__item.p0.ember-view')\n",
    "        \n",
    "        for l in lists:\n",
    "            try:\n",
    "                title= l.find_element_by_css_selector('div.full-width.artdeco-entity-lockup__title.ember-view').text #posicion\n",
    "                compania=l.find_element_by_css_selector('div.artdeco-entity-lockup__subtitle.ember-view').text #compañia\n",
    "                ubicacion=l.find_element_by_css_selector('div.artdeco-entity-lockup__caption.ember-view').text #ubicacion\n",
    "                fecha=l.find_element_by_css_selector('li.job-card-container__listed-time.job-card-container__footer-item').text #fecha\n",
    "                link=l.find_element_by_tag_name('a').get_attribute('href').split(\"?\",1)[0] #link  \n",
    "                df=pd.DataFrame({'Puesto':title,\n",
    "                                 'Empresa':compania,\n",
    "                                 'Ubicacion':ubicacion,\n",
    "                                 'Fecha':fecha,\n",
    "                                 'Link':link,}, index=[0])\n",
    "                df_full=df_full.append(df,ignore_index=True)\n",
    "            except Exception as e:\n",
    "                print(e)\n",
    "except Exception as e:\n",
    "    print(e)"
   ]
  },
  {
   "cell_type": "markdown",
   "metadata": {
    "jupyter": {
     "source_hidden": true
    }
   },
   "source": [
    "```python\n",
    "driver.find_elements_by_css_selector('li.occludable-update.artdeco-list__item--offset-4.artdeco-list__item.p0.ember-view')\n",
    "#BUSCA LINEAS DEL CODIGO CON ESTAS CARACTERISTICAS\n",
    "\n",
    "\n",
    "#ESTE ES EL CODIGO DE HTML EN LINKEDIN\n",
    "#AL INICIO TENEMOS LI Y DESPUES LA CLASE\n",
    "<li id=\"ember280\" class=\"occludable-update artdeco-list__item--offset-2 artdeco-list__item p0 ember-view\" \n",
    "\n",
    "lists[0].find_element_by_css_selector('div.full-width.artdeco-entity-lockup__title.ember-view').text #posicion\n",
    "lists[0].find_element_by_css_selector('div.artdeco-entity-lockup__subtitle.ember-view').text #compañia\n",
    "lists[0].find_element_by_css_selector('div.artdeco-entity-lockup__caption.ember-view').text #ubicacion\n",
    "lists[0].find_element_by_css_selector('li.job-card-container__listed-time.job-card-container__footer-item').text #fecha\n",
    "lists[0].find_element_by_tag_name('a').get_attribute('href').split(\"?\",1)[0] #link    \n",
    "    \n",
    "```   "
   ]
  },
  {
   "cell_type": "code",
   "execution_count": 27,
   "metadata": {
    "jupyter": {
     "source_hidden": true
    }
   },
   "outputs": [],
   "source": [
    "driver.get(url2[1])\n",
    "time.sleep(int(random.uniform(5,7)))"
   ]
  },
  {
   "cell_type": "code",
   "execution_count": 28,
   "metadata": {
    "jupyter": {
     "source_hidden": true
    }
   },
   "outputs": [],
   "source": [
    "lists=driver.find_elements_by_css_selector('li.occludable-update.artdeco-list__item--offset-2.artdeco-list__item.p0.ember-view') "
   ]
  },
  {
   "cell_type": "code",
   "execution_count": 29,
   "metadata": {
    "jupyter": {
     "source_hidden": true
    }
   },
   "outputs": [],
   "source": [
    "lists[0].location_once_scrolled_into_view\n",
    "time.sleep(random.randrange(1, 5, 1)/10)\n",
    "lists= driver.find_elements_by_css_selector('li.occludable-update.artdeco-list__item--offset-2.artdeco-list__item.p0.ember-view')"
   ]
  },
  {
   "cell_type": "code",
   "execution_count": 47,
   "metadata": {
    "jupyter": {
     "source_hidden": true
    }
   },
   "outputs": [
    {
     "data": {
      "text/plain": [
       "'Credit Research Analyst\\n Promocionado'"
      ]
     },
     "execution_count": 47,
     "metadata": {},
     "output_type": "execute_result"
    }
   ],
   "source": [
    "title"
   ]
  },
  {
   "cell_type": "code",
   "execution_count": 49,
   "metadata": {
    "jupyter": {
     "source_hidden": true
    }
   },
   "outputs": [],
   "source": [
    "df=pd.DataFrame({'Puesto':title,\n",
    "                             'Empresa':compania,\n",
    "                             'Ubicacion':ubicacion,\n",
    "                             'Fecha':fecha,\n",
    "                             'Link':link}, index=[0])"
   ]
  },
  {
   "cell_type": "code",
   "execution_count": 51,
   "metadata": {
    "jupyter": {
     "source_hidden": true
    }
   },
   "outputs": [],
   "source": [
    "df_full=df_full.append(df)"
   ]
  },
  {
   "cell_type": "code",
   "execution_count": 54,
   "metadata": {
    "collapsed": true,
    "jupyter": {
     "outputs_hidden": true,
     "source_hidden": true
    }
   },
   "outputs": [
    {
     "data": {
      "text/html": [
       "<div>\n",
       "<style scoped>\n",
       "    .dataframe tbody tr th:only-of-type {\n",
       "        vertical-align: middle;\n",
       "    }\n",
       "\n",
       "    .dataframe tbody tr th {\n",
       "        vertical-align: top;\n",
       "    }\n",
       "\n",
       "    .dataframe thead th {\n",
       "        text-align: right;\n",
       "    }\n",
       "</style>\n",
       "<table border=\"1\" class=\"dataframe\">\n",
       "  <thead>\n",
       "    <tr style=\"text-align: right;\">\n",
       "      <th></th>\n",
       "      <th>Puesto</th>\n",
       "      <th>Empresa</th>\n",
       "      <th>Ubicacion</th>\n",
       "      <th>Fecha</th>\n",
       "      <th>Link</th>\n",
       "    </tr>\n",
       "  </thead>\n",
       "  <tbody>\n",
       "    <tr>\n",
       "      <th>0</th>\n",
       "      <td>Associate, Credit Trading\\n Promocionado</td>\n",
       "      <td>Macquarie Group</td>\n",
       "      <td>London, GB</td>\n",
       "      <td>Hace 14 horas\\nEn las últimas 24 horas</td>\n",
       "      <td>https://www.linkedin.com/jobs/view/1988634138/</td>\n",
       "    </tr>\n",
       "    <tr>\n",
       "      <th>1</th>\n",
       "      <td>Investment Analyst\\n Promocionado</td>\n",
       "      <td>Doxa Partners LLP</td>\n",
       "      <td>London, England, United Kingdom</td>\n",
       "      <td>Hace 2 días</td>\n",
       "      <td>https://www.linkedin.com/jobs/view/1987237813/</td>\n",
       "    </tr>\n",
       "    <tr>\n",
       "      <th>2</th>\n",
       "      <td>Senior Research Analyst – Real Estate\\n Promoc...</td>\n",
       "      <td>Alan Biller and Associates</td>\n",
       "      <td>Menlo Park, California, United States</td>\n",
       "      <td>Hace 6 días</td>\n",
       "      <td>https://www.linkedin.com/jobs/view/1952762805/</td>\n",
       "    </tr>\n",
       "    <tr>\n",
       "      <th>3</th>\n",
       "      <td>Sustainable Equity Analyst\\n Promocionado</td>\n",
       "      <td>Leverton Search</td>\n",
       "      <td>London, England Metropolitan Area</td>\n",
       "      <td>Hace 6 días</td>\n",
       "      <td>https://www.linkedin.com/jobs/view/1981444586/</td>\n",
       "    </tr>\n",
       "    <tr>\n",
       "      <th>4</th>\n",
       "      <td>Private Equity Consultant Analyst</td>\n",
       "      <td>Aon</td>\n",
       "      <td>Chicago, IL, US</td>\n",
       "      <td>Hace 5 días</td>\n",
       "      <td>https://www.linkedin.com/jobs/view/1984015620/</td>\n",
       "    </tr>\n",
       "    <tr>\n",
       "      <th>...</th>\n",
       "      <td>...</td>\n",
       "      <td>...</td>\n",
       "      <td>...</td>\n",
       "      <td>...</td>\n",
       "      <td>...</td>\n",
       "    </tr>\n",
       "    <tr>\n",
       "      <th>244</th>\n",
       "      <td>Asset Management Analyst\\n Promocionado</td>\n",
       "      <td>ACM Advisors</td>\n",
       "      <td>Toronto, Ontario, Canada</td>\n",
       "      <td>Hace 1 semana</td>\n",
       "      <td>https://www.linkedin.com/jobs/view/1938002821/</td>\n",
       "    </tr>\n",
       "    <tr>\n",
       "      <th>245</th>\n",
       "      <td>Due Diligence Analyst\\n Promocionado</td>\n",
       "      <td>Beaumont Advisors Limited</td>\n",
       "      <td>Halifax, Nova Scotia, Canada</td>\n",
       "      <td>Hace 2 días</td>\n",
       "      <td>https://www.linkedin.com/jobs/view/1962232295/</td>\n",
       "    </tr>\n",
       "    <tr>\n",
       "      <th>246</th>\n",
       "      <td>Contract Investment Analyst\\n Promocionado</td>\n",
       "      <td>Relish Works</td>\n",
       "      <td>Chicago, Illinois, United States</td>\n",
       "      <td>Hace 1 día</td>\n",
       "      <td>https://www.linkedin.com/jobs/view/1960368721/</td>\n",
       "    </tr>\n",
       "    <tr>\n",
       "      <th>247</th>\n",
       "      <td>Investment associate, oil and gas/ metals and ...</td>\n",
       "      <td>Greenwich Partners</td>\n",
       "      <td>London, United Kingdom</td>\n",
       "      <td></td>\n",
       "      <td>https://www.linkedin.com/jobs/view/1975959879/</td>\n",
       "    </tr>\n",
       "    <tr>\n",
       "      <th>248</th>\n",
       "      <td>ESG Analyst\\n Promocionado</td>\n",
       "      <td>Hanover</td>\n",
       "      <td>Singapore, Singapore</td>\n",
       "      <td>Hace 3 semanas</td>\n",
       "      <td>https://www.linkedin.com/jobs/view/1931216696/</td>\n",
       "    </tr>\n",
       "  </tbody>\n",
       "</table>\n",
       "<p>249 rows × 5 columns</p>\n",
       "</div>"
      ],
      "text/plain": [
       "                                                Puesto  \\\n",
       "0             Associate, Credit Trading\\n Promocionado   \n",
       "1                    Investment Analyst\\n Promocionado   \n",
       "2    Senior Research Analyst – Real Estate\\n Promoc...   \n",
       "3            Sustainable Equity Analyst\\n Promocionado   \n",
       "4                    Private Equity Consultant Analyst   \n",
       "..                                                 ...   \n",
       "244            Asset Management Analyst\\n Promocionado   \n",
       "245               Due Diligence Analyst\\n Promocionado   \n",
       "246         Contract Investment Analyst\\n Promocionado   \n",
       "247  Investment associate, oil and gas/ metals and ...   \n",
       "248                         ESG Analyst\\n Promocionado   \n",
       "\n",
       "                        Empresa                              Ubicacion  \\\n",
       "0               Macquarie Group                             London, GB   \n",
       "1             Doxa Partners LLP        London, England, United Kingdom   \n",
       "2    Alan Biller and Associates  Menlo Park, California, United States   \n",
       "3               Leverton Search      London, England Metropolitan Area   \n",
       "4                           Aon                        Chicago, IL, US   \n",
       "..                          ...                                    ...   \n",
       "244                ACM Advisors               Toronto, Ontario, Canada   \n",
       "245   Beaumont Advisors Limited           Halifax, Nova Scotia, Canada   \n",
       "246                Relish Works       Chicago, Illinois, United States   \n",
       "247          Greenwich Partners                 London, United Kingdom   \n",
       "248                     Hanover                   Singapore, Singapore   \n",
       "\n",
       "                                      Fecha  \\\n",
       "0    Hace 14 horas\\nEn las últimas 24 horas   \n",
       "1                               Hace 2 días   \n",
       "2                               Hace 6 días   \n",
       "3                               Hace 6 días   \n",
       "4                               Hace 5 días   \n",
       "..                                      ...   \n",
       "244                           Hace 1 semana   \n",
       "245                             Hace 2 días   \n",
       "246                              Hace 1 día   \n",
       "247                                           \n",
       "248                          Hace 3 semanas   \n",
       "\n",
       "                                               Link  \n",
       "0    https://www.linkedin.com/jobs/view/1988634138/  \n",
       "1    https://www.linkedin.com/jobs/view/1987237813/  \n",
       "2    https://www.linkedin.com/jobs/view/1952762805/  \n",
       "3    https://www.linkedin.com/jobs/view/1981444586/  \n",
       "4    https://www.linkedin.com/jobs/view/1984015620/  \n",
       "..                                              ...  \n",
       "244  https://www.linkedin.com/jobs/view/1938002821/  \n",
       "245  https://www.linkedin.com/jobs/view/1962232295/  \n",
       "246  https://www.linkedin.com/jobs/view/1960368721/  \n",
       "247  https://www.linkedin.com/jobs/view/1975959879/  \n",
       "248  https://www.linkedin.com/jobs/view/1931216696/  \n",
       "\n",
       "[249 rows x 5 columns]"
      ]
     },
     "execution_count": 54,
     "metadata": {},
     "output_type": "execute_result"
    }
   ],
   "source": [
    "df_full"
   ]
  },
  {
   "cell_type": "code",
   "execution_count": 55,
   "metadata": {},
   "outputs": [],
   "source": [
    "df_full.to_excel('jobs.xlsx')"
   ]
  },
  {
   "cell_type": "code",
   "execution_count": 56,
   "metadata": {},
   "outputs": [],
   "source": [
    "driver.close()"
   ]
  },
  {
   "cell_type": "code",
   "execution_count": null,
   "metadata": {},
   "outputs": [],
   "source": []
  }
 ],
 "metadata": {
  "kernelspec": {
   "display_name": "Python 3 (ipykernel)",
   "language": "python",
   "name": "python3"
  },
  "language_info": {
   "codemirror_mode": {
    "name": "ipython",
    "version": 3
   },
   "file_extension": ".py",
   "mimetype": "text/x-python",
   "name": "python",
   "nbconvert_exporter": "python",
   "pygments_lexer": "ipython3",
   "version": "3.11.5"
  }
 },
 "nbformat": 4,
 "nbformat_minor": 4
}
